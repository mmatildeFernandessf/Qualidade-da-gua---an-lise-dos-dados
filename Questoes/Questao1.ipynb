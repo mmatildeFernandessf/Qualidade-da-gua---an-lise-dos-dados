{
 "cells": [
  {
   "cell_type": "code",
   "execution_count": null,
   "id": "f17b0ae0-8432-4d61-8441-626e875402bd",
   "metadata": {},
   "outputs": [],
   "source": [
    "# Install dependencies\n",
    "\n",
    "import sys\n",
    "!{sys.executable} -m pip install hdfs"
   ]
  },
  {
   "cell_type": "code",
   "execution_count": null,
   "id": "6c12d353-9995-435a-9746-e913864eae1b",
   "metadata": {},
   "outputs": [],
   "source": [
    "pip install delta-spark"
   ]
  },
  {
   "cell_type": "code",
   "execution_count": null,
   "id": "fa6c3174-79a6-4cbc-8c2e-b0e564b31492",
   "metadata": {},
   "outputs": [],
   "source": [
    "from pyspark.sql import SparkSession\n",
    "from pyspark.sql import Row\n",
    "from delta import *\n",
    "\n",
    "# warehouse_location points to the default location for managed databases and tables\n",
    "warehouse_location = 'hdfs://hdfs-nn:9000/Projeto/questao1'\n",
    "\n",
    "builder = SparkSession \\\n",
    "    .builder \\\n",
    "    .appName(\"Python Spark SQL Hive integration example\") \\\n",
    "    .config(\"spark.sql.warehouse.dir\", warehouse_location) \\\n",
    "    .config(\"hive.metastore.uris\", \"thrift://hive-metastore:9083\") \\\n",
    "    .config(\"spark.sql.extensions\", \"io.delta.sql.DeltaSparkSessionExtension\") \\\n",
    "    .config(\"spark.sql.catalog.spark_catalog\", \"org.apache.spark.sql.delta.catalog.DeltaCatalog\") \\\n",
    "    .config(\"spark.jars.packages\", \"io.delta:delta-core_2.12:1.0.0\") \\\n",
    "    .enableHiveSupport() \\\n",
    "\n",
    "spark = spark = configure_spark_with_delta_pip(builder).getOrCreate()"
   ]
  },
  {
   "cell_type": "code",
   "execution_count": null,
   "id": "7be37f95-bdbb-401c-942b-fc3c9e38fe05",
   "metadata": {},
   "outputs": [],
   "source": [
    "# create gold database\n",
    "spark.sql( \n",
    "    \"\"\"\n",
    "    DROP DATABASE IF EXISTS Projeto1 CASCADE\n",
    "    \"\"\"\n",
    ")\n",
    "spark.sql(\n",
    "    \"\"\"\n",
    "    create database Projeto1 location 'hdfs://hdfs-nn:9000/Projeto/questao1/Projeto1.db'\n",
    "    \"\"\"\n",
    ")"
   ]
  },
  {
   "cell_type": "code",
   "execution_count": null,
   "id": "7cdf1ff9-3fbb-43f4-94bc-017be4d4b4ab",
   "metadata": {},
   "outputs": [],
   "source": [
    "# criar uma tabela gold das Fontes\n",
    "\n",
    "spark.sql(\n",
    "    \"\"\"\n",
    "    DROP TABLE IF EXISTS Projeto1.gold_Fontes\n",
    "    \"\"\"\n",
    ")\n",
    "\n",
    "spark.sql(\n",
    "    \"\"\"\n",
    "    CREATE EXTERNAL TABLE Projeto1.gold_Fontes (\n",
    "        Position STRING,\n",
    "        BOROUGH STRING,\n",
    "        YEAR INT\n",
    "    )\n",
    "    USING DELTA\n",
    "    LOCATION 'hdfs://hdfs-nn:9000/Projeto/questao1/Projeto1.db/gold_Fontes/'\n",
    "    \"\"\"\n",
    ")"
   ]
  },
  {
   "cell_type": "code",
   "execution_count": null,
   "id": "f959025c-c28f-439e-83d2-fa7cd0ee2ac3",
   "metadata": {},
   "outputs": [],
   "source": [
    "from pyspark.sql.functions import substring, avg, sum\n",
    "\n",
    "# read DrinkingFountains from the silver tables\n",
    "hdfs_path = \"hdfs://hdfs-nn:9000/Projeto/Silver/Projeto.db/DrinkingFountains\"\n",
    "\n",
    "gold_Fontes = spark\\\n",
    "             .read\\\n",
    "             .load(hdfs_path)\n",
    "\n",
    "gold_Fontes.show()\n",
    "gold_Fontes.printSchema()"
   ]
  },
  {
   "cell_type": "code",
   "execution_count": null,
   "id": "c1872398-bc1d-4ecc-bd44-b1517135a4f1",
   "metadata": {},
   "outputs": [],
   "source": [
    "# write to delta table\n",
    "gold_Fontes \\\n",
    "    .select (\"Position\",\"BOROUGH\", \"YEAR\") \\\n",
    "    .write \\\n",
    "    .format(\"delta\") \\\n",
    "    .mode(\"overwrite\") \\\n",
    "    .save(\"hdfs://hdfs-nn:9000/Projeto/questao1/Projeto1.db/gold_Fontes/\")"
   ]
  },
  {
   "cell_type": "code",
   "execution_count": null,
   "id": "ddba1d32-a9d9-4510-b8b0-d348879fab5f",
   "metadata": {},
   "outputs": [],
   "source": [
    "# check the results in the table\n",
    "spark.table(\"ProjetoGold.gold_Fontes\").show()\n",
    "spark.table(\"ProjetoGold.gold_Fontes\").count()"
   ]
  },
  {
   "cell_type": "code",
   "execution_count": null,
   "id": "61299b5a-4a4d-464d-a4fb-a2dae0901139",
   "metadata": {},
   "outputs": [],
   "source": [
    "# criar uma tabela gold dos Tanques\n",
    "\n",
    "spark.sql(\n",
    "    \"\"\"\n",
    "    DROP TABLE IF EXISTS Projeto1.gold_Tanques\n",
    "    \"\"\"\n",
    ")\n",
    "\n",
    "spark.sql(\n",
    "    \"\"\"\n",
    "    CREATE EXTERNAL TABLE Projeto1.gold_Tanques (\n",
    "        BOROUGH STRING,\n",
    "        REPORTING_YEAR INT\n",
    "    )\n",
    "    USING DELTA\n",
    "    LOCATION 'hdfs://hdfs-nn:9000/Projeto/questao1/Projeto1.db/gold_Tanques/'\n",
    "    \"\"\"\n",
    ")"
   ]
  },
  {
   "cell_type": "code",
   "execution_count": null,
   "id": "982aa0cc-1f08-4a6e-b8a0-80ba3346dd42",
   "metadata": {},
   "outputs": [],
   "source": [
    "from pyspark.sql.functions import substring, avg, sum\n",
    "\n",
    "# read Tanques from the silver tables\n",
    "hdfs_path = \"hdfs://hdfs-nn:9000/Projeto/Silver/Projeto.db/Harbor_Water_Quality\"\n",
    "\n",
    "gold_Tanques = spark\\\n",
    "             .read\\\n",
    "             .load(hdfs_path)\n",
    "\n",
    "gold_Tanques.show()\n",
    "gold_Tanques.printSchema()"
   ]
  },
  {
   "cell_type": "code",
   "execution_count": null,
   "id": "57ce41ef-e2fc-479f-8dab-c5c6bd5dcc13",
   "metadata": {},
   "outputs": [],
   "source": [
    "# write to delta table\n",
    "gold_Tanques \\\n",
    "    .select (\"BOROUGH\", \"REPORTING_YEAR\") \\\n",
    "    .write \\\n",
    "    .format(\"delta\") \\\n",
    "    .mode(\"overwrite\") \\\n",
    "    .save(\"hdfs://hdfs-nn:9000/Projeto/questao1/Projeto1.db/gold_Tanques/\")"
   ]
  },
  {
   "cell_type": "code",
   "execution_count": null,
   "id": "04a1c291-f7bd-4a8e-9f7c-8342fb3ddc62",
   "metadata": {},
   "outputs": [],
   "source": [
    "Fontes_Tanques = gold_Fontes.join( gold_Tanques.BOROUGH == gold_Fontes.BOROUGH) & (gold_Tanques.ReportingYear == gold_Fontes.Year), \"innner\").drop(gold_Tanques.ReportingYear)\n"
   ]
  },
  {
   "cell_type": "code",
   "execution_count": null,
   "id": "4c94c272-3062-4339-bda6-af1c4e38c3a2",
   "metadata": {},
   "outputs": [],
   "source": [
    "# write to delta table\n",
    "Fontes_Tanques \\\n",
    "    .select (\"BOROUGH\", \"YEAR\") \\\n",
    "    .write \\\n",
    "    .format(\"delta\") \\\n",
    "    .mode(\"overwrite\") \\\n",
    "    .save(\"hdfs://hdfs://hdfs-nn:9000/Projeto/questao1/Projeto1.db/Fontes_Tanques/\")"
   ]
  },
  {
   "cell_type": "code",
   "execution_count": null,
   "id": "70a51672-2426-4f3e-b03a-2d0679d6fbb5",
   "metadata": {},
   "outputs": [],
   "source": [
    "# check the results in the table\n",
    "spark.table(\"Projeto1.Fontes_Tanques\").show()\n",
    "spark.table(\"Projeto1.Fontes_Tanques\").count()"
   ]
  }
 ],
 "metadata": {
  "kernelspec": {
   "display_name": "Python 3 (ipykernel)",
   "language": "python",
   "name": "python3"
  },
  "language_info": {
   "codemirror_mode": {
    "name": "ipython",
    "version": 3
   },
   "file_extension": ".py",
   "mimetype": "text/x-python",
   "name": "python",
   "nbconvert_exporter": "python",
   "pygments_lexer": "ipython3",
   "version": "3.10.6"
  }
 },
 "nbformat": 4,
 "nbformat_minor": 5
}
